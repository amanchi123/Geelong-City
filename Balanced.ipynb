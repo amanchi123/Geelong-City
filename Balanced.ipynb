{
  "nbformat": 4,
  "nbformat_minor": 0,
  "metadata": {
    "colab": {
      "name": "Balanced.ipynb",
      "provenance": []
    },
    "kernelspec": {
      "name": "python3",
      "display_name": "Python 3"
    }
  },
  "cells": [
    {
      "cell_type": "code",
      "metadata": {
        "id": "2Y7Rv9DDiA4b"
      },
      "source": [
        "import pandas as pd\n",
        "import numpy as np\n",
        "import matplotlib.pyplot as plt\n",
        "import seaborn as sns\n",
        "import sklearn\n",
        "import scipy\n",
        "from sklearn.metrics import classification_report,accuracy_score\n",
        "from sklearn.ensemble import IsolationForest\n",
        "from sklearn.neighbors import LocalOutlierFactor\n",
        "from sklearn.svm import OneClassSVM\n",
        "from sklearn.model_selection import train_test_split\n",
        "from sklearn.ensemble import RandomForestClassifier\n",
        "from sklearn.metrics import accuracy_score\n",
        "from sklearn.feature_selection import VarianceThreshold\n",
        "from pylab import rcParams\n",
        "rcParams['figure.figsize']= 14,8\n",
        "random_seed=42\n",
        "LABELS=[\"Present\",\"not present\"] "
      ],
      "execution_count": null,
      "outputs": []
    },
    {
      "cell_type": "code",
      "metadata": {
        "id": "mOe3YLzyj3y6",
        "colab": {
          "base_uri": "https://localhost:8080/",
          "height": 217
        },
        "outputId": "1a72f225-ccf2-4604-f845-e3defad0edbf"
      },
      "source": [
        "df=pd.read_csv('/content/geelongbuiltenv with Geographic location (1).csv',sep=',')\n",
        "df.head()"
      ],
      "execution_count": null,
      "outputs": [
        {
          "output_type": "execute_result",
          "data": {
            "text/html": [
              "<div>\n",
              "<style scoped>\n",
              "    .dataframe tbody tr th:only-of-type {\n",
              "        vertical-align: middle;\n",
              "    }\n",
              "\n",
              "    .dataframe tbody tr th {\n",
              "        vertical-align: top;\n",
              "    }\n",
              "\n",
              "    .dataframe thead th {\n",
              "        text-align: right;\n",
              "    }\n",
              "</style>\n",
              "<table border=\"1\" class=\"dataframe\">\n",
              "  <thead>\n",
              "    <tr style=\"text-align: right;\">\n",
              "      <th></th>\n",
              "      <th>LUM</th>\n",
              "      <th>LUMquintile</th>\n",
              "      <th>TrainDistThresh</th>\n",
              "      <th>BusDistThresh</th>\n",
              "      <th>BusPres</th>\n",
              "      <th>AccUtDestPres</th>\n",
              "      <th>AccUtDestPresquintile</th>\n",
              "      <th>AccUtDestDist</th>\n",
              "      <th>AccUtDestDistquintile</th>\n",
              "      <th>SprtLeiDens</th>\n",
              "      <th>SprtLeiDensquintile</th>\n",
              "      <th>SprtLeiDist</th>\n",
              "      <th>SprtLeiDistquintile</th>\n",
              "      <th>POSDist</th>\n",
              "      <th>POSDistquintile</th>\n",
              "      <th>POSAreaPct</th>\n",
              "      <th>POSAreaPctquintile</th>\n",
              "      <th>TakeawayDens</th>\n",
              "      <th>TakeawayDensquintile</th>\n",
              "      <th>TakeawayDist</th>\n",
              "      <th>TakeawayDistquintile</th>\n",
              "      <th>HealthyFoodDensity</th>\n",
              "      <th>HealthyFoodDensityquintile</th>\n",
              "      <th>HealthyFoodDist</th>\n",
              "      <th>HealthyFoodDistquintile</th>\n",
              "      <th>GrossDwlDens</th>\n",
              "      <th>GrossDwlDensquintile</th>\n",
              "      <th>StrtConn</th>\n",
              "      <th>StrtConnquintile</th>\n",
              "      <th>ActCenDist</th>\n",
              "      <th>ActCenDistquintile</th>\n",
              "      <th>TobPopDensp1000</th>\n",
              "      <th>TobPopDensp1000quintile</th>\n",
              "      <th>TobTobVendDist</th>\n",
              "      <th>TobTobVendDistquintile</th>\n",
              "      <th>RatioTrailsToRoads</th>\n",
              "      <th>RatioTrailsToRoadsquintile</th>\n",
              "      <th>Latitude</th>\n",
              "      <th>Longitude</th>\n",
              "      <th>TrainPres</th>\n",
              "    </tr>\n",
              "  </thead>\n",
              "  <tbody>\n",
              "    <tr>\n",
              "      <th>0</th>\n",
              "      <td>0.418636</td>\n",
              "      <td>4</td>\n",
              "      <td>0</td>\n",
              "      <td>1</td>\n",
              "      <td>1</td>\n",
              "      <td>2</td>\n",
              "      <td>2</td>\n",
              "      <td>2</td>\n",
              "      <td>2</td>\n",
              "      <td>0.000000</td>\n",
              "      <td>1</td>\n",
              "      <td>2334.840293</td>\n",
              "      <td>3</td>\n",
              "      <td>195.308128</td>\n",
              "      <td>1</td>\n",
              "      <td>0.211762</td>\n",
              "      <td>4</td>\n",
              "      <td>0.088528</td>\n",
              "      <td>3</td>\n",
              "      <td>734.854534</td>\n",
              "      <td>2</td>\n",
              "      <td>0.000000</td>\n",
              "      <td>1</td>\n",
              "      <td>2681.513753</td>\n",
              "      <td>4</td>\n",
              "      <td>6.138845</td>\n",
              "      <td>4</td>\n",
              "      <td>41.378732</td>\n",
              "      <td>4</td>\n",
              "      <td>21768.170070</td>\n",
              "      <td>4</td>\n",
              "      <td>0.419933</td>\n",
              "      <td>2</td>\n",
              "      <td>775.371825</td>\n",
              "      <td>3</td>\n",
              "      <td>0.063443</td>\n",
              "      <td>2</td>\n",
              "      <td>-38.1567</td>\n",
              "      <td>144.5551</td>\n",
              "      <td>0</td>\n",
              "    </tr>\n",
              "    <tr>\n",
              "      <th>1</th>\n",
              "      <td>0.512726</td>\n",
              "      <td>4</td>\n",
              "      <td>1</td>\n",
              "      <td>1</td>\n",
              "      <td>1</td>\n",
              "      <td>7</td>\n",
              "      <td>5</td>\n",
              "      <td>7</td>\n",
              "      <td>5</td>\n",
              "      <td>0.000000</td>\n",
              "      <td>1</td>\n",
              "      <td>913.552249</td>\n",
              "      <td>1</td>\n",
              "      <td>250.556874</td>\n",
              "      <td>3</td>\n",
              "      <td>0.031718</td>\n",
              "      <td>1</td>\n",
              "      <td>0.485292</td>\n",
              "      <td>5</td>\n",
              "      <td>341.128302</td>\n",
              "      <td>1</td>\n",
              "      <td>0.178792</td>\n",
              "      <td>5</td>\n",
              "      <td>584.101684</td>\n",
              "      <td>1</td>\n",
              "      <td>13.940743</td>\n",
              "      <td>5</td>\n",
              "      <td>77.755440</td>\n",
              "      <td>5</td>\n",
              "      <td>1812.155338</td>\n",
              "      <td>1</td>\n",
              "      <td>2.996704</td>\n",
              "      <td>4</td>\n",
              "      <td>315.721995</td>\n",
              "      <td>1</td>\n",
              "      <td>0.025997</td>\n",
              "      <td>1</td>\n",
              "      <td>-38.1333</td>\n",
              "      <td>144.3500</td>\n",
              "      <td>0</td>\n",
              "    </tr>\n",
              "    <tr>\n",
              "      <th>2</th>\n",
              "      <td>0.209689</td>\n",
              "      <td>2</td>\n",
              "      <td>0</td>\n",
              "      <td>1</td>\n",
              "      <td>1</td>\n",
              "      <td>5</td>\n",
              "      <td>3</td>\n",
              "      <td>4</td>\n",
              "      <td>4</td>\n",
              "      <td>0.020258</td>\n",
              "      <td>3</td>\n",
              "      <td>1400.551320</td>\n",
              "      <td>2</td>\n",
              "      <td>324.854903</td>\n",
              "      <td>4</td>\n",
              "      <td>0.425467</td>\n",
              "      <td>5</td>\n",
              "      <td>0.162064</td>\n",
              "      <td>4</td>\n",
              "      <td>769.448651</td>\n",
              "      <td>3</td>\n",
              "      <td>0.050645</td>\n",
              "      <td>2</td>\n",
              "      <td>1366.097985</td>\n",
              "      <td>2</td>\n",
              "      <td>0.676011</td>\n",
              "      <td>3</td>\n",
              "      <td>7.134546</td>\n",
              "      <td>3</td>\n",
              "      <td>5267.718643</td>\n",
              "      <td>2</td>\n",
              "      <td>2.670940</td>\n",
              "      <td>4</td>\n",
              "      <td>746.243079</td>\n",
              "      <td>2</td>\n",
              "      <td>0.135687</td>\n",
              "      <td>3</td>\n",
              "      <td>-38.1700</td>\n",
              "      <td>144.3960</td>\n",
              "      <td>0</td>\n",
              "    </tr>\n",
              "    <tr>\n",
              "      <th>3</th>\n",
              "      <td>0.847546</td>\n",
              "      <td>5</td>\n",
              "      <td>1</td>\n",
              "      <td>1</td>\n",
              "      <td>1</td>\n",
              "      <td>7</td>\n",
              "      <td>5</td>\n",
              "      <td>7</td>\n",
              "      <td>5</td>\n",
              "      <td>0.037318</td>\n",
              "      <td>4</td>\n",
              "      <td>965.344308</td>\n",
              "      <td>1</td>\n",
              "      <td>229.975343</td>\n",
              "      <td>2</td>\n",
              "      <td>0.142600</td>\n",
              "      <td>4</td>\n",
              "      <td>0.621958</td>\n",
              "      <td>5</td>\n",
              "      <td>369.506218</td>\n",
              "      <td>1</td>\n",
              "      <td>0.024878</td>\n",
              "      <td>2</td>\n",
              "      <td>956.274668</td>\n",
              "      <td>2</td>\n",
              "      <td>7.481207</td>\n",
              "      <td>5</td>\n",
              "      <td>113.265985</td>\n",
              "      <td>5</td>\n",
              "      <td>1663.495404</td>\n",
              "      <td>1</td>\n",
              "      <td>9.479434</td>\n",
              "      <td>5</td>\n",
              "      <td>316.179185</td>\n",
              "      <td>1</td>\n",
              "      <td>0.172038</td>\n",
              "      <td>3</td>\n",
              "      <td>-38.1674</td>\n",
              "      <td>144.3658</td>\n",
              "      <td>1</td>\n",
              "    </tr>\n",
              "    <tr>\n",
              "      <th>4</th>\n",
              "      <td>0.307938</td>\n",
              "      <td>3</td>\n",
              "      <td>0</td>\n",
              "      <td>1</td>\n",
              "      <td>1</td>\n",
              "      <td>3</td>\n",
              "      <td>2</td>\n",
              "      <td>4</td>\n",
              "      <td>3</td>\n",
              "      <td>0.000000</td>\n",
              "      <td>1</td>\n",
              "      <td>1967.155970</td>\n",
              "      <td>3</td>\n",
              "      <td>295.410346</td>\n",
              "      <td>3</td>\n",
              "      <td>0.103317</td>\n",
              "      <td>4</td>\n",
              "      <td>0.056174</td>\n",
              "      <td>3</td>\n",
              "      <td>721.547118</td>\n",
              "      <td>2</td>\n",
              "      <td>0.028087</td>\n",
              "      <td>2</td>\n",
              "      <td>932.819631</td>\n",
              "      <td>2</td>\n",
              "      <td>9.638756</td>\n",
              "      <td>5</td>\n",
              "      <td>57.587787</td>\n",
              "      <td>5</td>\n",
              "      <td>4325.191244</td>\n",
              "      <td>1</td>\n",
              "      <td>0.329327</td>\n",
              "      <td>2</td>\n",
              "      <td>669.341899</td>\n",
              "      <td>2</td>\n",
              "      <td>0.157551</td>\n",
              "      <td>3</td>\n",
              "      <td>-38.1200</td>\n",
              "      <td>144.3200</td>\n",
              "      <td>0</td>\n",
              "    </tr>\n",
              "  </tbody>\n",
              "</table>\n",
              "</div>"
            ],
            "text/plain": [
              "        LUM  LUMquintile  TrainDistThresh  ...  Latitude  Longitude  TrainPres\n",
              "0  0.418636            4                0  ...  -38.1567   144.5551          0\n",
              "1  0.512726            4                1  ...  -38.1333   144.3500          0\n",
              "2  0.209689            2                0  ...  -38.1700   144.3960          0\n",
              "3  0.847546            5                1  ...  -38.1674   144.3658          1\n",
              "4  0.307938            3                0  ...  -38.1200   144.3200          0\n",
              "\n",
              "[5 rows x 40 columns]"
            ]
          },
          "metadata": {
            "tags": []
          },
          "execution_count": 45
        }
      ]
    },
    {
      "cell_type": "code",
      "metadata": {
        "id": "0k8gU8RqkQLr",
        "colab": {
          "base_uri": "https://localhost:8080/",
          "height": 852
        },
        "outputId": "4142f5cb-1a4a-4d4e-c762-7808009e228d"
      },
      "source": [
        "df.info()\n"
      ],
      "execution_count": null,
      "outputs": [
        {
          "output_type": "stream",
          "text": [
            "<class 'pandas.core.frame.DataFrame'>\n",
            "RangeIndex: 46 entries, 0 to 45\n",
            "Data columns (total 40 columns):\n",
            " #   Column                      Non-Null Count  Dtype  \n",
            "---  ------                      --------------  -----  \n",
            " 0   LUM                         46 non-null     float64\n",
            " 1   LUMquintile                 46 non-null     int64  \n",
            " 2   TrainDistThresh             46 non-null     int64  \n",
            " 3   BusDistThresh               46 non-null     int64  \n",
            " 4   BusPres                     46 non-null     int64  \n",
            " 5   AccUtDestPres               46 non-null     int64  \n",
            " 6   AccUtDestPresquintile       46 non-null     int64  \n",
            " 7   AccUtDestDist               46 non-null     int64  \n",
            " 8   AccUtDestDistquintile       46 non-null     int64  \n",
            " 9   SprtLeiDens                 46 non-null     float64\n",
            " 10  SprtLeiDensquintile         46 non-null     int64  \n",
            " 11  SprtLeiDist                 46 non-null     float64\n",
            " 12  SprtLeiDistquintile         46 non-null     int64  \n",
            " 13  POSDist                     46 non-null     float64\n",
            " 14  POSDistquintile             46 non-null     int64  \n",
            " 15  POSAreaPct                  46 non-null     float64\n",
            " 16  POSAreaPctquintile          46 non-null     int64  \n",
            " 17  TakeawayDens                46 non-null     float64\n",
            " 18  TakeawayDensquintile        46 non-null     int64  \n",
            " 19  TakeawayDist                46 non-null     float64\n",
            " 20  TakeawayDistquintile        46 non-null     int64  \n",
            " 21  HealthyFoodDensity          46 non-null     float64\n",
            " 22  HealthyFoodDensityquintile  46 non-null     int64  \n",
            " 23  HealthyFoodDist             46 non-null     float64\n",
            " 24  HealthyFoodDistquintile     46 non-null     int64  \n",
            " 25  GrossDwlDens                46 non-null     float64\n",
            " 26  GrossDwlDensquintile        46 non-null     int64  \n",
            " 27  StrtConn                    46 non-null     float64\n",
            " 28  StrtConnquintile            46 non-null     int64  \n",
            " 29  ActCenDist                  46 non-null     float64\n",
            " 30  ActCenDistquintile          46 non-null     int64  \n",
            " 31  TobPopDensp1000             46 non-null     float64\n",
            " 32  TobPopDensp1000quintile     46 non-null     int64  \n",
            " 33  TobTobVendDist              46 non-null     float64\n",
            " 34  TobTobVendDistquintile      46 non-null     int64  \n",
            " 35  RatioTrailsToRoads          46 non-null     float64\n",
            " 36  RatioTrailsToRoadsquintile  46 non-null     int64  \n",
            " 37  Latitude                    46 non-null     float64\n",
            " 38  Longitude                   46 non-null     float64\n",
            " 39  TrainPres                   46 non-null     int64  \n",
            "dtypes: float64(17), int64(23)\n",
            "memory usage: 14.5 KB\n"
          ],
          "name": "stdout"
        }
      ]
    },
    {
      "cell_type": "code",
      "metadata": {
        "id": "JR5oU1nsk-uN",
        "colab": {
          "base_uri": "https://localhost:8080/",
          "height": 52
        },
        "outputId": "bfb8d8d5-c9cf-49de-e873-0780aa874c03"
      },
      "source": [
        "#creating dependent and independent attributes\n",
        "columns=df.columns.tolist()\n",
        "columns=[c for c in columns if c not in ['TrainPres']]\n",
        "target='TrainPres'\n",
        "state=np.random.RandomState(42)\n",
        "x=df[columns]\n",
        "y=df[target]\n",
        "x_outliers=state.uniform(low=0,high=1,size=(x.shape[0],x.shape[1]))\n",
        "print(x.shape)\n",
        "print(y.shape)"
      ],
      "execution_count": null,
      "outputs": [
        {
          "output_type": "stream",
          "text": [
            "(46, 39)\n",
            "(46,)\n"
          ],
          "name": "stdout"
        }
      ]
    },
    {
      "cell_type": "code",
      "metadata": {
        "id": "Z0B5r3t-pcZR",
        "colab": {
          "base_uri": "https://localhost:8080/",
          "height": 34
        },
        "outputId": "8440c305-5ab5-443e-d16a-b777adc7481c"
      },
      "source": [
        "df.isnull().values.any()"
      ],
      "execution_count": null,
      "outputs": [
        {
          "output_type": "execute_result",
          "data": {
            "text/plain": [
              "False"
            ]
          },
          "metadata": {
            "tags": []
          },
          "execution_count": 48
        }
      ]
    },
    {
      "cell_type": "code",
      "metadata": {
        "id": "o8ef-MZCwJsn",
        "colab": {
          "base_uri": "https://localhost:8080/",
          "height": 531
        },
        "outputId": "d566453a-2da9-4b61-b9d9-764d2d6ae4e2"
      },
      "source": [
        "count_TrainPres=pd.value_counts(df['TrainPres'],sort =True)\n",
        "count_TrainPres.plot(kind='bar',rot=0)\n",
        "plt.title('train station prediction')\n",
        "plt.xticks(range(2),LABELS)\n",
        "plt.xlabel('TrainPres')\n",
        "plt.ylabel('Frequency')\n"
      ],
      "execution_count": null,
      "outputs": [
        {
          "output_type": "execute_result",
          "data": {
            "text/plain": [
              "Text(0, 0.5, 'Frequency')"
            ]
          },
          "metadata": {
            "tags": []
          },
          "execution_count": 49
        },
        {
          "output_type": "display_data",
          "data": {
            "image/png": "[encoded data removed]",
            "text/plain": [
              "<Figure size 1008x576 with 1 Axes>"
            ]
          },
          "metadata": {
            "tags": [],
            "needs_background": "light"
          }
        }
      ]
    },
    {
      "cell_type": "code",
      "metadata": {
        "id": "8PNelu6byBcv",
        "colab": {
          "base_uri": "https://localhost:8080/",
          "height": 34
        },
        "outputId": "277045bb-e824-42b5-c2dc-c805f7bde514"
      },
      "source": [
        "notpresent=df[df['TrainPres']==0]\n",
        "present=df[df['TrainPres']==1]\n",
        "print(notpresent.shape,present.shape)"
      ],
      "execution_count": null,
      "outputs": [
        {
          "output_type": "stream",
          "text": [
            "(38, 40) (8, 40)\n"
          ],
          "name": "stdout"
        }
      ]
    },
    {
      "cell_type": "code",
      "metadata": {
        "id": "NugOPxHPyvg2"
      },
      "source": [
        "from imblearn.combine import SMOTETomek\n"
      ],
      "execution_count": null,
      "outputs": []
    },
    {
      "cell_type": "code",
      "metadata": {
        "id": "23VnlS9Jz39E",
        "colab": {
          "base_uri": "https://localhost:8080/",
          "height": 125
        },
        "outputId": "90c8494e-2b70-4932-b123-29ad5ecf00a4"
      },
      "source": [
        "##oversampling\n",
        "smk=SMOTETomek(random_state=42)\n",
        "x_res,y_res=smk.fit_sample(x,y)\n",
        "x_res.shape,y_res.shape\n"
      ],
      "execution_count": null,
      "outputs": [
        {
          "output_type": "stream",
          "text": [
            "/usr/local/lib/python3.6/dist-packages/sklearn/utils/deprecation.py:87: FutureWarning: Function safe_indexing is deprecated; safe_indexing is deprecated in version 0.22 and will be removed in version 0.24.\n",
            "  warnings.warn(msg, category=FutureWarning)\n",
            "/usr/local/lib/python3.6/dist-packages/sklearn/utils/deprecation.py:87: FutureWarning: Function safe_indexing is deprecated; safe_indexing is deprecated in version 0.22 and will be removed in version 0.24.\n",
            "  warnings.warn(msg, category=FutureWarning)\n"
          ],
          "name": "stderr"
        },
        {
          "output_type": "execute_result",
          "data": {
            "text/plain": [
              "((68, 39), (68,))"
            ]
          },
          "metadata": {
            "tags": []
          },
          "execution_count": 52
        }
      ]
    },
    {
      "cell_type": "code",
      "metadata": {
        "id": "HcnHXeyX0uK2",
        "colab": {
          "base_uri": "https://localhost:8080/",
          "height": 52
        },
        "outputId": "d7396d58-8e1c-4966-dcdc-439aba60e46f"
      },
      "source": [
        "from collections import Counter\n",
        "print('orginal dataset shape{}'.format(Counter(y)))\n",
        "print('resampled dataset shape{}'.format(Counter(y_res)))"
      ],
      "execution_count": null,
      "outputs": [
        {
          "output_type": "stream",
          "text": [
            "orginal dataset shapeCounter({0: 38, 1: 8})\n",
            "resampled dataset shapeCounter({0: 34, 1: 34})\n"
          ],
          "name": "stdout"
        }
      ]
    },
    {
      "cell_type": "code",
      "metadata": {
        "id": "dLHG5VyM3y-S",
        "colab": {
          "base_uri": "https://localhost:8080/",
          "height": 90
        },
        "outputId": "f82ad2a6-2c94-4150-8e1b-f95b8989f1d2"
      },
      "source": [
        "#Random oversampling\n",
        "from imblearn.over_sampling import RandomOverSampler\n",
        "os=RandomOverSampler(ratio=1)\n",
        "x_train_res,y_train_res=os.fit_sample(x,y)\n",
        "x_train_res.shape,y_train_res.shape"
      ],
      "execution_count": null,
      "outputs": [
        {
          "output_type": "stream",
          "text": [
            "/usr/local/lib/python3.6/dist-packages/sklearn/utils/deprecation.py:87: FutureWarning: Function safe_indexing is deprecated; safe_indexing is deprecated in version 0.22 and will be removed in version 0.24.\n",
            "  warnings.warn(msg, category=FutureWarning)\n"
          ],
          "name": "stderr"
        },
        {
          "output_type": "execute_result",
          "data": {
            "text/plain": [
              "((76, 39), (76,))"
            ]
          },
          "metadata": {
            "tags": []
          },
          "execution_count": 54
        }
      ]
    },
    {
      "cell_type": "code",
      "metadata": {
        "id": "04Vya-AR5HFu",
        "colab": {
          "base_uri": "https://localhost:8080/",
          "height": 52
        },
        "outputId": "f20daa88-96e0-4a33-9aeb-e03695d15a30"
      },
      "source": [
        "print('orginal dataset shape{}'.format(Counter(y)))\n",
        "print('resampled dataset shape{}'.format(Counter(y_train_res)))"
      ],
      "execution_count": null,
      "outputs": [
        {
          "output_type": "stream",
          "text": [
            "orginal dataset shapeCounter({0: 38, 1: 8})\n",
            "resampled dataset shapeCounter({0: 38, 1: 38})\n"
          ],
          "name": "stdout"
        }
      ]
    },
    {
      "cell_type": "code",
      "metadata": {
        "id": "3X6l_ksJ6fvH",
        "colab": {
          "base_uri": "https://localhost:8080/",
          "height": 34
        },
        "outputId": "98ed6ed1-97c6-49da-ba34-8c6426b9d2e8"
      },
      "source": [
        "#co-relation\n",
        "x=df.drop('TrainPres' , axis=1)\n",
        "y=df['TrainPres']\n",
        "\n",
        "x.shape,y.shape"
      ],
      "execution_count": null,
      "outputs": [
        {
          "output_type": "execute_result",
          "data": {
            "text/plain": [
              "((46, 39), (46,))"
            ]
          },
          "metadata": {
            "tags": []
          },
          "execution_count": 56
        }
      ]
    },
    {
      "cell_type": "code",
      "metadata": {
        "id": "9f7o4iSf-TMA"
      },
      "source": [
        "x_train,x_test,y_train,y_test=train_test_split(x,y,test_size=0.2,random_state=0,stratify=y)"
      ],
      "execution_count": null,
      "outputs": []
    },
    {
      "cell_type": "code",
      "metadata": {
        "id": "5Jj3IXp8616S",
        "colab": {
          "base_uri": "https://localhost:8080/",
          "height": 34
        },
        "outputId": "a1b24ce3-88d8-4f9c-c9d2-2ba94b78d95a"
      },
      "source": [
        "#constant removal\n",
        "constant_filter=VarianceThreshold(threshold=0)\n",
        "constant_filter.fit(x_train)"
      ],
      "execution_count": null,
      "outputs": [
        {
          "output_type": "execute_result",
          "data": {
            "text/plain": [
              "VarianceThreshold(threshold=0)"
            ]
          },
          "metadata": {
            "tags": []
          },
          "execution_count": 58
        }
      ]
    },
    {
      "cell_type": "code",
      "metadata": {
        "id": "CsiKuoJM-dgx"
      },
      "source": [
        " "
      ],
      "execution_count": null,
      "outputs": []
    }
  ]
}